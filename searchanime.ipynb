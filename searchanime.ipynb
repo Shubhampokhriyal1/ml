{
 "cells": [
  {
   "cell_type": "code",
   "execution_count": 1,
   "id": "3e5c15e4",
   "metadata": {},
   "outputs": [],
   "source": [
    "## First step is to import pandas\n",
    "\n",
    "import pandas as pd\n",
    "import numpy as np"
   ]
  },
  {
   "cell_type": "code",
   "execution_count": null,
   "id": "2abce5ef",
   "metadata": {},
   "outputs": [],
   "source": [
    "df1=pd.read_csv('Anime.csv',usecols=['Rank','Name','Episodes','Rating','Tags','Type'])\n",
    "y=int(input(\"Enter limit of episodes \"))\n",
    "x=input(\"Enter Jonure of anime \")\n",
    "x=x[0:1].upper()+x[1:]\n",
    "df=df1[df1['Episodes']<y]\n",
    "df=df[df['Tags'].astype(str).str.contains(x)]\n",
    "df"
   ]
  },
  {
   "cell_type": "code",
   "execution_count": null,
   "id": "3f8df75f",
   "metadata": {},
   "outputs": [],
   "source": []
  }
 ],
 "metadata": {
  "kernelspec": {
   "display_name": "Python 3",
   "language": "python",
   "name": "python3"
  },
  "language_info": {
   "codemirror_mode": {
    "name": "ipython",
    "version": 3
   },
   "file_extension": ".py",
   "mimetype": "text/x-python",
   "name": "python",
   "nbconvert_exporter": "python",
   "pygments_lexer": "ipython3",
   "version": "3.8.8"
  }
 },
 "nbformat": 4,
 "nbformat_minor": 5
}
