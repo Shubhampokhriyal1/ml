{
 "cells": [
  {
   "cell_type": "code",
   "execution_count": 28,
   "id": "be31e90e",
   "metadata": {},
   "outputs": [],
   "source": [
    "import numpy as np\n",
    "import pandas as pd\n",
    "import matplotlib.pyplot as plt"
   ]
  },
  {
   "cell_type": "code",
   "execution_count": 68,
   "id": "aa869291",
   "metadata": {},
   "outputs": [],
   "source": [
    "data=pd.read_csv('insurance_data.csv')\n",
    "X=data['age']\n",
    "Y=data['bought_insurance']"
   ]
  },
  {
   "cell_type": "code",
   "execution_count": 69,
   "id": "9eb8d64a",
   "metadata": {},
   "outputs": [],
   "source": [
    "X_train=np.ones((X.shape[0],2))\n",
    "X_train[:,1]=X\n",
    "Y_train=np.array(Y)\n",
    "Xplot=np.array(X)"
   ]
  },
  {
   "cell_type": "code",
   "execution_count": 70,
   "id": "78b888de",
   "metadata": {},
   "outputs": [
    {
     "data": {
      "image/png": "[encoded data removed]",
      "text/plain": [
       "<Figure size 432x288 with 1 Axes>"
      ]
     },
     "metadata": {
      "needs_background": "light"
     },
     "output_type": "display_data"
    }
   ],
   "source": [
    "plt.scatter(Xplot,Y_train)\n",
    "plt.show()"
   ]
  },
  {
   "cell_type": "code",
   "execution_count": 71,
   "id": "09b477a6",
   "metadata": {},
   "outputs": [],
   "source": [
    "def sigmoid(x):\n",
    "    return 1/(1+np.exp(-x))"
   ]
  },
  {
   "cell_type": "code",
   "execution_count": 72,
   "id": "285d3599",
   "metadata": {},
   "outputs": [],
   "source": [
    "def model(X_train,Y_train,alpha,iterations):\n",
    "    theta=np.zeros(2)\n",
    "    cost_list=[]\n",
    "    m=X_train.shape[0]\n",
    "    for i in range(iterations):\n",
    "        W=np.dot(theta,X_train.T)\n",
    "        pre=sigmoid(W)\n",
    "        cost=(-1/m)*np.sum(np.dot(Y_train,np.log(pre)))+np.dot((1-Y_train),np.log(1-pre))\n",
    "        dtheta=np.dot(pre-Y_train,X_train)\n",
    "        theta=theta-alpha/m*np.sum(dtheta)\n",
    "        cost_list.append(cost)\n",
    "    return theta,cost_list"
   ]
  },
  {
   "cell_type": "code",
   "execution_count": 84,
   "id": "07369843",
   "metadata": {},
   "outputs": [
    {
     "data": {
      "text/plain": [
       "array([0.50707328, 0.70032593])"
      ]
     },
     "execution_count": 84,
     "metadata": {},
     "output_type": "execute_result"
    }
   ],
   "source": [
    "alpha=0.0005\n",
    "iterations=150\n",
    "theta,cost_list=model(X_train,Y_train,alpha,iterations)\n",
    "test=[[1,20],[1,40]]\n",
    "W=np.dot(theta.T,test)\n",
    "prediction=sigmoid(W)\n",
    "prediction"
   ]
  },
  {
   "cell_type": "code",
   "execution_count": 85,
   "id": "1ecf2932",
   "metadata": {},
   "outputs": [
    {
     "data": {
      "image/png": "[encoded data removed]",
      "text/plain": [
       "<Figure size 432x288 with 1 Axes>"
      ]
     },
     "metadata": {
      "needs_background": "light"
     },
     "output_type": "display_data"
    }
   ],
   "source": [
    "ite=np.arange(0,iterations)\n",
    "plt.plot(cost_list,ite)\n",
    "plt.show()"
   ]
  },
  {
   "cell_type": "code",
   "execution_count": null,
   "id": "ccbbba7a",
   "metadata": {},
   "outputs": [],
   "source": []
  }
 ],
 "metadata": {
  "kernelspec": {
   "display_name": "Python 3",
   "language": "python",
   "name": "python3"
  },
  "language_info": {
   "codemirror_mode": {
    "name": "ipython",
    "version": 3
   },
   "file_extension": ".py",
   "mimetype": "text/x-python",
   "name": "python",
   "nbconvert_exporter": "python",
   "pygments_lexer": "ipython3",
   "version": "3.8.8"
  }
 },
 "nbformat": 4,
 "nbformat_minor": 5
}
